{
  "nbformat": 4,
  "nbformat_minor": 0,
  "metadata": {
    "colab": {
      "provenance": [],
      "include_colab_link": true
    },
    "kernelspec": {
      "name": "python3",
      "display_name": "Python 3"
    },
    "language_info": {
      "name": "python"
    },
    "accelerator": "GPU",
    "gpuClass": "standard"
  },
  "cells": [
    {
      "cell_type": "markdown",
      "metadata": {
        "id": "view-in-github",
        "colab_type": "text"
      },
      "source": [
        "<a href=\"https://colab.research.google.com/github/PanchenkoYehor/gan-pok/blob/main/Train_MNIST.ipynb\" target=\"_parent\"><img src=\"https://colab.research.google.com/assets/colab-badge.svg\" alt=\"Open In Colab\"/></a>"
      ]
    },
    {
      "cell_type": "markdown",
      "source": [
        "# Setup"
      ],
      "metadata": {
        "id": "BVwmOWY29dtm"
      }
    },
    {
      "cell_type": "markdown",
      "source": [
        "To run this notebook:\n",
        "\n",
        "1.   Change the runtime type to \"GPU\". Runtime -> Change Runtime Type.\n",
        "2.   Connect to Google Drive (https://datascience.stackexchange.com/a/104093).\n",
        "3.   Update the Google Drive file paths to match your file structure.\n",
        "\n",
        "\n"
      ],
      "metadata": {
        "id": "XgMSQyl48eQt"
      }
    },
    {
      "cell_type": "markdown",
      "source": [
        "# Create dataset"
      ],
      "metadata": {
        "id": "btL5KJsX9gL2"
      }
    },
    {
      "cell_type": "code",
      "execution_count": 1,
      "metadata": {
        "id": "ZzpATmFlRmBv",
        "colab": {
          "base_uri": "https://localhost:8080/"
        },
        "outputId": "c117e608-ee65-45da-cb6b-fe53f8e9535d"
      },
      "outputs": [
        {
          "output_type": "stream",
          "name": "stdout",
          "text": [
            "python3: can't open file '/content/drive/MyDrive/course-material/progan-plus/source/main_tf_records.py': [Errno 2] No such file or directory\n"
          ]
        }
      ],
      "source": [
        "!python /content/drive/MyDrive/course-material/progan-plus/source/main_tf_records.py create mnist /content/mnist/records"
      ]
    },
    {
      "cell_type": "markdown",
      "source": [
        "# Train"
      ],
      "metadata": {
        "id": "KdYg6HYg9iZk"
      }
    },
    {
      "cell_type": "markdown",
      "source": [
        "## Option 1: Using a fromfile (train_mnist.txt)"
      ],
      "metadata": {
        "id": "VkTTmAlVAeGl"
      }
    },
    {
      "cell_type": "markdown",
      "source": [
        "Create the fromfile (train_mnist.txt)\n",
        "\n",
        "*Note: I've omitted \"--gpu-mem-limit=4\" since it's okay if tensorflow uses all of the Colab VM's GPU memory. If you're running this on your local machine, add \"--gpu-mem-limit=4\" back in to leave some GPU memory for your OS and other applications.*"
      ],
      "metadata": {
        "id": "dGiktFkLA36k"
      }
    },
    {
      "cell_type": "code",
      "source": [
        "%%bash\n",
        "echo \"init\n",
        "--create-unique-id\n",
        "--visualization-grid-size\n",
        "30\n",
        "60\n",
        "--resolution=32\n",
        "--replica-batch-size=16\n",
        "--epoch-sample-count=1024\n",
        "--total-sample-count=26214400\n",
        "--visualization-smoothing-sample-count=1000\n",
        "--checkpoint-interval=10\n",
        "--disable-horizontal-flip-data-augmentation\n",
        "--latent-size=3\n",
        "/content/mnist/records/*.tfrecord\n",
        "/content/mnist/training\" > train_mnist.txt"
      ],
      "metadata": {
        "id": "AYJlqNmX-rN0"
      },
      "execution_count": 2,
      "outputs": []
    },
    {
      "cell_type": "markdown",
      "source": [
        "Call the training script"
      ],
      "metadata": {
        "id": "812Czf_aA7Gt"
      }
    },
    {
      "cell_type": "code",
      "source": [
        "!python /content/drive/MyDrive/course-material/progan-plus/source/main_training.py \"@train_mnist.txt\""
      ],
      "metadata": {
        "colab": {
          "base_uri": "https://localhost:8080/"
        },
        "id": "5N1HNC29_GL3",
        "outputId": "f412c468-14af-464a-9300-3402bbb242c9"
      },
      "execution_count": 3,
      "outputs": [
        {
          "output_type": "stream",
          "name": "stdout",
          "text": [
            "python3: can't open file '/content/drive/MyDrive/course-material/progan-plus/source/main_training.py': [Errno 2] No such file or directory\n"
          ]
        }
      ]
    },
    {
      "cell_type": "markdown",
      "source": [
        "## Option 2: Arguments directly on command line"
      ],
      "metadata": {
        "id": "yEQsv27KCuMV"
      }
    },
    {
      "cell_type": "code",
      "source": [
        "!python /content/drive/MyDrive/course-material/progan-plus/source/main_training.py init \\\n",
        "--create-unique-id --visualization-grid-size 30 60 --resolution=32 --replica-batch-size=16 \\\n",
        "--epoch-sample-count=1024 --total-sample-count=26214400 --visualization-smoothing-sample-count=1000 \\\n",
        "--checkpoint-interval=10 --disable-horizontal-flip-data-augmentation --latent-size=3 \\\n",
        "\"/content/mnist/records/*.tfrecord\" /content/mnist/training"
      ],
      "metadata": {
        "colab": {
          "base_uri": "https://localhost:8080/"
        },
        "id": "jrxCZvN4BFuv",
        "outputId": "f01f1b34-7170-404a-8a4b-713137be97a5"
      },
      "execution_count": 4,
      "outputs": [
        {
          "output_type": "stream",
          "name": "stdout",
          "text": [
            "python3: can't open file '/content/drive/MyDrive/course-material/progan-plus/source/main_training.py': [Errno 2] No such file or directory\n"
          ]
        }
      ]
    },
    {
      "cell_type": "code",
      "source": [],
      "metadata": {
        "id": "kToiKJopDDWe"
      },
      "execution_count": null,
      "outputs": []
    }
  ]
}