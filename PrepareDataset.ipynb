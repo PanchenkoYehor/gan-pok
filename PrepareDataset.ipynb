{
 "cells": [
  {
   "cell_type": "code",
   "execution_count": 5,
   "id": "b07844d6-c923-4936-8158-7d7302a01caa",
   "metadata": {},
   "outputs": [
    {
     "name": "stderr",
     "output_type": "stream",
     "text": [
      "100%|██████████████████████████████████████████████████████████████████████████████████████████████████████████████████████████████████████████████████████████████████████████| 819/819 [00:03<00:00, 212.48it/s]\n"
     ]
    }
   ],
   "source": [
    "# # https://youtu.be/nbRkLE2fiVI\n",
    "# https://youtu.be/1HqjPqNglPc\n",
    "\"\"\"\n",
    "Dataset from: http://press.liacs.nl/mirflickr/mirdownload.html\n",
    "Read high res. original images and save lower versions to be used for SRGAN.\n",
    "Here, we are resizing them to 128x128 that will be  used as HR images and \n",
    "32x32 that will be used as LR images\n",
    "\"\"\"\n",
    "\n",
    "import cv2\n",
    "import numpy as np\n",
    "import os\n",
    "import matplotlib.pyplot as plt\n",
    "from tqdm import tqdm\n",
    "\n",
    "train_dir = \"D:/p84/gan-fun/pokemon_jpg\" \n",
    "\n",
    "for img in tqdm(os.listdir( train_dir + \"/pokemon_jpg\")):\n",
    "    img_array = cv2.imread(train_dir + \"/pokemon_jpg/\" + img)\n",
    "    \n",
    "    img_array = cv2.resize(img_array, (128,128))\n",
    "    lr_img_array = cv2.resize(img_array,(32,32))\n",
    "    cv2.imwrite(train_dir+ \"/hr_images/\" + img, img_array)\n",
    "    cv2.imwrite(train_dir+ \"/lr_images/\"+ img, lr_img_array)"
   ]
  }
 ],
 "metadata": {
  "kernelspec": {
   "display_name": "Python 3",
   "language": "python",
   "name": "python3"
  },
  "language_info": {
   "codemirror_mode": {
    "name": "ipython",
    "version": 3
   },
   "file_extension": ".py",
   "mimetype": "text/x-python",
   "name": "python",
   "nbconvert_exporter": "python",
   "pygments_lexer": "ipython3",
   "version": "3.6.13"
  }
 },
 "nbformat": 4,
 "nbformat_minor": 5
}
